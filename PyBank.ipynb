{
 "cells": [
  {
   "cell_type": "code",
   "execution_count": 5,
   "metadata": {
    "collapsed": true
   },
   "outputs": [],
   "source": [
    "# Modules\n",
    "import csv"
   ]
  },
  {
   "cell_type": "code",
   "execution_count": 7,
   "metadata": {
    "collapsed": false
   },
   "outputs": [
    {
     "name": "stdout",
     "output_type": "stream",
     "text": [
      "86\n",
      "38382578\n"
     ]
    }
   ],
   "source": [
    "#The total number of months included in the dataset-rows\n",
    "#The net total amount of \"Profit/Losses\" over the entire period-total revenue\n",
    "total=0\n",
    "totalmonths=0\n",
    "\n",
    "with open(\"budget_data.csv\", newline=\"\") as csvfile:\n",
    "    csvreader = csv.reader(csvfile, delimiter=\",\")\n",
    "    csvheader = next(csvreader)\n",
    "    for row in csvreader:\n",
    "            totalmonths = totalmonths + 1\n",
    "#           Don't we have to reference a row for the totalmonths counter like we do for the total counter below?\n",
    "#           totalmonths = totalmonths + int(row[0])\n",
    "            total = total + int(row[1])\n",
    "    print (totalmonths)\n",
    "    print(total)\n",
    "   "
   ]
  },
  {
   "cell_type": "code",
   "execution_count": 8,
   "metadata": {
    "collapsed": false
   },
   "outputs": [
    {
     "name": "stdout",
     "output_type": "stream",
     "text": [
      "Average Change: $ 7803\n",
      "Greatest Increase in Profits: Feb-2012 ($ 1926159 )\n",
      "Greatest Decrease in Losses: Sep-2013 ($ -2196167 )\n"
     ]
    }
   ],
   "source": [
    "#The average of the changes in \"Profit/Losses\" over the entire period \n",
    "#The greatest increase in profits (date and amount) over the entire period \n",
    "#The greatest decrease in losses (date and amount) over the entire period\n",
    "#total of difference between all rows of column \"Profit/Losses\" to get total revenue change. Also max revenue change and min revenue change\n",
    "\n",
    "with open(\"budget_data.csv\", newline=\"\") as csvfile:\n",
    "    csvreader = csv.reader(csvfile, delimiter=\",\")\n",
    "    csvheader = next(csvreader)\n",
    "    date = []\n",
    "    differences_list = []\n",
    "    previous_value = 0\n",
    "    for row in csvreader: \n",
    "        current_value = int(row[1])\n",
    "        difference = current_value - previous_value\n",
    "        previous_value = current_value\n",
    "\n",
    "        date.append(row[0])\n",
    "        differences_list.append(difference)\n",
    "#print (differences_list)\n",
    "\n",
    "avg_change = sum(differences_list)/len(differences_list)\n",
    "\n",
    "max_change = max(differences_list)\n",
    "\n",
    "min_change = min(differences_list)\n",
    "\n",
    "max_change_date = str(date[differences_list.index(max_change)])\n",
    "min_change_date = str(date[differences_list.index(min_change)])\n",
    "\n",
    "print(\"Average Change: $\", round(avg_change))\n",
    "print(\"Greatest Increase in Profits:\", max_change_date,\"($\", max_change,\")\")\n",
    "print(\"Greatest Decrease in Losses:\", min_change_date,\"($\", min_change,\")\")\n"
   ]
  },
  {
   "cell_type": "code",
   "execution_count": 4,
   "metadata": {
    "collapsed": true
   },
   "outputs": [],
   "source": [
    "#print(\"Financial Analysis\")\n",
    "#print(\"-----------------------------------\")\n",
    "#print(\"Total Months:\", len(date))\n",
    "#print(\"Total Revenue: $\", sum(revenue))"
   ]
  }
 ],
 "metadata": {
  "kernelspec": {
   "display_name": "Python 3",
   "language": "python",
   "name": "python3"
  },
  "language_info": {
   "codemirror_mode": {
    "name": "ipython",
    "version": 3
   },
   "file_extension": ".py",
   "mimetype": "text/x-python",
   "name": "python",
   "nbconvert_exporter": "python",
   "pygments_lexer": "ipython3",
   "version": "3.6.0"
  },
  "toc": {
   "colors": {
    "hover_highlight": "#DAA520",
    "running_highlight": "#FF0000",
    "selected_highlight": "#FFD700"
   },
   "moveMenuLeft": true,
   "nav_menu": {
    "height": "12px",
    "width": "252px"
   },
   "navigate_menu": true,
   "number_sections": true,
   "sideBar": true,
   "threshold": 4,
   "toc_cell": false,
   "toc_section_display": "block",
   "toc_window_display": false
  }
 },
 "nbformat": 4,
 "nbformat_minor": 2
}
