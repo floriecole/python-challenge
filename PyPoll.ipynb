{
 "cells": [
  {
   "cell_type": "code",
   "execution_count": 7,
   "metadata": {
    "collapsed": true
   },
   "outputs": [],
   "source": [
    "# Modules\n",
    "import csv"
   ]
  },
  {
   "cell_type": "code",
   "execution_count": 2,
   "metadata": {
    "collapsed": false
   },
   "outputs": [
    {
     "name": "stdout",
     "output_type": "stream",
     "text": [
      "3521001\n"
     ]
    }
   ],
   "source": [
    "#The total number of votes cast-rows\n",
    "totalvotes = 0\n",
    "\n",
    "with open(\"election_data.csv\", newline=\"\") as csvfile:\n",
    "    csvreader = csv.reader(csvfile, delimiter=\",\")\n",
    "    csvheader = next(csvreader)\n",
    "    for row in csvreader: \n",
    "        totalvotes = totalvotes + 1\n",
    "\n",
    "print (totalvotes)"
   ]
  },
  {
   "cell_type": "code",
   "execution_count": 3,
   "metadata": {
    "collapsed": false
   },
   "outputs": [
    {
     "name": "stdout",
     "output_type": "stream",
     "text": [
      "['Khan', 'Correy', 'Li', \"O'Tooley\"]\n"
     ]
    }
   ],
   "source": [
    "#A complete list of candidates who received votes\n",
    "\n",
    "with open(\"election_data.csv\", newline=\"\") as csvfile:\n",
    "    csvreader = csv.reader(csvfile, delimiter=\",\")\n",
    "    csv_header = next(csvfile)\n",
    "    Candidate = []\n",
    "    for row in csvreader:\n",
    "        if row[2] not in Candidate:\n",
    "            Candidate.append(row[2]) \n",
    "        \n",
    "print (Candidate)    "
   ]
  },
  {
   "cell_type": "code",
   "execution_count": 6,
   "metadata": {
    "collapsed": false
   },
   "outputs": [
    {
     "name": "stdout",
     "output_type": "stream",
     "text": [
      "{'Khan': 2218231, 'Correy': 704200, 'Li': 492940, \"O'Tooley\": 105630}\n",
      "[63.0, 20.0, 14.0, 3.0]\n",
      "['Khan']\n"
     ]
    }
   ],
   "source": [
    "#The percentage of votes each candidate won\n",
    "#The total number of votes each candidate won\n",
    "#The winner of the election based on popular vote \n",
    "\n",
    "#Creates dictionary to be used for candidate name and vote count.\n",
    "candidate_votes = {}\n",
    "\n",
    "#Sets variable, total votes, to zero for count.\n",
    "total_votes = 0\n",
    "\n",
    "with open(\"election_data.csv\", newline=\"\") as csvfile:\n",
    "    csvreader = csv.reader(csvfile, delimiter=\",\")\n",
    "    csv_header = next(csvfile)\n",
    "    \n",
    "#creates dictionary from file using column 3 as keys, using each name only once.\n",
    "#counts votes for each candidate as entries\n",
    "#keeps a total vote count by counting up 1 for each loop (# of rows w/o header)\n",
    "    for row in csvreader:\n",
    "        #total_votes += 1\n",
    "        total_votes = total_votes + 1\n",
    "        if row[2] in candidate_votes.keys():\n",
    "            candidate_votes[row[2]] = candidate_votes[row[2]] + 1\n",
    "        else:\n",
    "            candidate_votes[row[2]] = 1\n",
    " \n",
    " #create empty list for candidates and his/her vote count\n",
    "candidates = []\n",
    "num_votes = []\n",
    "\n",
    "#takes dictionary keys and values and, respectively, dumps them into the lists, \n",
    "# candidates and num_votes\n",
    "for key, value in candidate_votes.items():\n",
    "        candidates.append(key)\n",
    "        num_votes.append(value)\n",
    "\n",
    "#creates vote percent list\n",
    "vote_percent = []\n",
    "for n in num_votes:\n",
    "    vote_percent.append(round(n/total_votes*100, 1))\n",
    "\n",
    "#zips candidates, num_votes, vote_percent into tuples\n",
    "clean_data = list(zip(candidates, num_votes, vote_percent))\n",
    "\n",
    "#creates winner_list to put winners (even if there is a tie)\n",
    "winner_list = []\n",
    "\n",
    "for name in clean_data:\n",
    "    if max(num_votes) == name[1]:\n",
    "         winner_list.append(name[0])\n",
    "\n",
    "# makes winner_list a str with the first entry\n",
    "winner = winner_list[0]\n",
    "\n",
    "#only runs if there is a tie and puts additional winners into a string separated by commas\n",
    "if len(winner_list) > 1:\n",
    "    for w in range(1, len(winner_list)):\n",
    "        winner = winner + \", \" + winner_list[w]\n",
    "        \n",
    "print (candidate_votes)\n",
    "print (vote_percent)\n",
    "print (winner_list)"
   ]
  },
  {
   "cell_type": "code",
   "execution_count": 5,
   "metadata": {
    "collapsed": true
   },
   "outputs": [],
   "source": [
    "#print(\"Election Results\")\n",
    "#print(\"-----------------------------------\")\n",
    "#print(\"Candidate Votes:\", )\n",
    "#print(\"Candidate Vote Percent : ,)\n",
    "#print(\"Winner : ,)\n"
   ]
  }
 ],
 "metadata": {
  "kernelspec": {
   "display_name": "Python 3",
   "language": "python",
   "name": "python3"
  },
  "language_info": {
   "codemirror_mode": {
    "name": "ipython",
    "version": 3
   },
   "file_extension": ".py",
   "mimetype": "text/x-python",
   "name": "python",
   "nbconvert_exporter": "python",
   "pygments_lexer": "ipython3",
   "version": "3.6.0"
  },
  "toc": {
   "colors": {
    "hover_highlight": "#DAA520",
    "running_highlight": "#FF0000",
    "selected_highlight": "#FFD700"
   },
   "moveMenuLeft": true,
   "nav_menu": {
    "height": "12px",
    "width": "252px"
   },
   "navigate_menu": true,
   "number_sections": true,
   "sideBar": true,
   "threshold": 4,
   "toc_cell": false,
   "toc_section_display": "block",
   "toc_window_display": false
  }
 },
 "nbformat": 4,
 "nbformat_minor": 2
}
